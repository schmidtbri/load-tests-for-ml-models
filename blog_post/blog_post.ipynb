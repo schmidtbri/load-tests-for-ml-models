{
 "cells": [
  {
   "cell_type": "raw",
   "id": "63c71505",
   "metadata": {},
   "source": [
    "Title: Load Tests for ML Models\n",
    "Date: 2022-09-01 07:00\n",
    "Category: Blog\n",
    "Slug: load-tests-for-ml-models\n",
    "Authors: Brian Schmidt\n",
    "Summary: In a [previous blog post](https://www.tekhnoal.com/rest-model-service.html) we showed how to create a RESTful model service for a machine learning model that we want to deploy. A common requirement for RESTful services is to be able to be able to continue working while being used by many users at the same time. In this blog post we'll show how to create a load testing script for an ML model service."
   ]
  },
  {
   "cell_type": "markdown",
   "id": "1f779669",
   "metadata": {},
   "source": [
    "# Load Tests for ML Models\n",
    "\n",
    "In a [previous blog post](https://www.tekhnoal.com/rest-model-service.html) we showed how to create a RESTful model service for a machine learning model that we want to deploy. A common requirement for RESTful services is to be able to be able to continue working while being used by many users at the same time. In this blog post we'll show how to create a load testing script for an ML model service.\n",
    "\n",
    "This blog post was written in a Jupyter notebook, some of the code and commands found in it reflects this."
   ]
  },
  {
   "cell_type": "markdown",
   "id": "e21bb967",
   "metadata": {},
   "source": [
    "## Introduction\n",
    "\n",
    "Deploying machine learning models is always done in the context of a bigger software system into which the ML model is being integrated. ML models need to be integrated correctly into the software system, and the deployed ML model needs to meet the requirements of the system into which it is being deployed. The requirements that a system must meet are often categorized into two types: functional requirements and non-functional requirements. [Functional requirements](https://en.wikipedia.org/wiki/Functional_requirement) are the specific behavior that a sytem must have in order to do its assigned tasks. [Non-functional requirements](https://en.wikipedia.org/wiki/Non-functional_requirement) are the operational standards that the system must meet in order to do its assigned tasks. An example of a non-functional requirement is resilience, which is the quality of a system that is able to have errors in its operation and still provide an acceptable level of service. Non-functional requirements are often hard to measure objectively, but we can definitely tell when they are missing from a system. In this blog post we'll be dealing with load non-functional requirements.\n",
    "\n",
    "Non-functional requirements can be stated by using [Service Level Indicators (SLI)](https://en.wikipedia.org/wiki/Service_level_indicator). An SLI is a simply a metric that measures an aspect of the function of the system. For example, the latency of a system is the amount of time it takes for the system to fulfill one request from beginning to end. An SLI needs to be well-defined and understood by both the clients and operators of a system because it forms the basis for service level objectives. Some examples of SLIs are latency, throughput, availability, error rate, and durability.\n",
    "\n",
    "[Service level objectives (SLO)](https://en.wikipedia.org/wiki/Service-level_objective) are requirements on the operation of a system as measured through the SLIs of the system. SLOs are defined and agreed-upon ways to tell when a system is operating outside of the required performance standard. For example, when measuring latency a valid SLO would be something like this: \"the latency of the system must be 500 ms or less for 90% of requests\". When measuring error rates an SLO would say \"the number of errors must not exceed 10 for every 10,000 requests made to the system\".\n",
    "\n",
    "[Service Level Agreements (SLA)](https://en.wikipedia.org/wiki/Service-level_agreement) are an agreement between a system and its clients about the \"level\" at which the system will provide its services. SLAs can contain many different types of clauses, the ones we are interested today are the non-functional aspects of the system as measured by SLIs and constrained by SLOs. \n",
    "\n",
    "Load testing is the process by which we can verify that a deployed ML model that is deployed as a service is able to meet the SLA of the service while under load. Some of the SLIs that we will me measuring will be latency, throughput, and error rate.\n",
    "\n",
    "All of the code for this blog post is available in [this github repository](https://github.com/schmidtbri/load-tests-for-ml-models)."
   ]
  },
  {
   "cell_type": "markdown",
   "id": "f81c5495",
   "metadata": {},
   "source": [
    "## Installing the Model\n",
    "\n",
    "To make this blog post a little shorter we won't train a completely new model. Instead we'll install a model that we've [built in a previous blog post](https://www.tekhnoal.com/regression-model.html). The code for the model is in [this github repository](https://github.com/schmidtbri/regression-model).\n",
    "\n",
    "To install the model, we can use the pip command and point it at the github repo of the model."
   ]
  },
  {
   "cell_type": "code",
   "execution_count": 1,
   "id": "268ca81a",
   "metadata": {},
   "outputs": [],
   "source": [
    "from IPython.display import clear_output\n",
    "from IPython.display import Markdown as md\n",
    "\n",
    "!pip install -e git+https://github.com/schmidtbri/regression-model#egg=insurance_charges_model\n",
    "\n",
    "clear_output()"
   ]
  },
  {
   "cell_type": "markdown",
   "id": "b8473fbe",
   "metadata": {},
   "source": [
    "To make a prediction with the model, we'll import the model's class."
   ]
  },
  {
   "cell_type": "code",
   "execution_count": 2,
   "id": "764faa98",
   "metadata": {},
   "outputs": [],
   "source": [
    "from insurance_charges_model.prediction.model import InsuranceChargesModel"
   ]
  },
  {
   "cell_type": "markdown",
   "id": "46f0dd4f",
   "metadata": {},
   "source": [
    "Now we can instantiate the model:"
   ]
  },
  {
   "cell_type": "code",
   "execution_count": 3,
   "id": "fc73406c",
   "metadata": {},
   "outputs": [],
   "source": [
    "model = InsuranceChargesModel()\n",
    "\n",
    "clear_output()"
   ]
  },
  {
   "cell_type": "markdown",
   "id": "c668f3c5",
   "metadata": {},
   "source": [
    "To make a prediction, we'll need to use the model's input schema class."
   ]
  },
  {
   "cell_type": "code",
   "execution_count": 4,
   "id": "016156e4",
   "metadata": {},
   "outputs": [],
   "source": [
    "from insurance_charges_model.prediction.schemas import InsuranceChargesModelInput, \\\n",
    "    SexEnum, RegionEnum\n",
    "\n",
    "model_input = InsuranceChargesModelInput(\n",
    "    age=42, \n",
    "    sex=SexEnum.female,\n",
    "    bmi=24.0,\n",
    "    children=2,\n",
    "    smoker=False,\n",
    "    region=RegionEnum.northwest)"
   ]
  },
  {
   "cell_type": "markdown",
   "id": "deb608e8",
   "metadata": {},
   "source": [
    "The model's input schema is called InsuranceChargesModelInput and it encompasses all of the features required by the model to make a prediction.\n",
    "\n",
    "Now we can make a prediction with the model by calling the predict() method with an instance of the InsuranceChargesModelInput class."
   ]
  },
  {
   "cell_type": "code",
   "execution_count": 5,
   "id": "9ec2c2ae",
   "metadata": {},
   "outputs": [
    {
     "data": {
      "text/plain": [
       "InsuranceChargesModelOutput(charges=8640.78)"
      ]
     },
     "execution_count": 5,
     "metadata": {},
     "output_type": "execute_result"
    }
   ],
   "source": [
    "prediction = model.predict(model_input)\n",
    "\n",
    "prediction"
   ]
  },
  {
   "cell_type": "markdown",
   "id": "1c4d112c",
   "metadata": {},
   "source": [
    "The model predicts that the charges will be $8640.78.\n",
    "\n",
    "We can view input schema of the model as a JSON schema document by calling the .schema() method on the class."
   ]
  },
  {
   "cell_type": "code",
   "execution_count": 6,
   "id": "3d2d443b",
   "metadata": {},
   "outputs": [
    {
     "data": {
      "text/plain": [
       "{'title': 'InsuranceChargesModelInput',\n",
       " 'description': \"Schema for input of the model's predict method.\",\n",
       " 'type': 'object',\n",
       " 'properties': {'age': {'title': 'Age',\n",
       "   'description': 'Age of primary beneficiary in years.',\n",
       "   'minimum': 18,\n",
       "   'maximum': 65,\n",
       "   'type': 'integer'},\n",
       "  'sex': {'title': 'Sex',\n",
       "   'description': 'Gender of beneficiary.',\n",
       "   'allOf': [{'$ref': '#/definitions/SexEnum'}]},\n",
       "  'bmi': {'title': 'Body Mass Index',\n",
       "   'description': 'Body mass index of beneficiary.',\n",
       "   'minimum': 15.0,\n",
       "   'maximum': 50.0,\n",
       "   'type': 'number'},\n",
       "  'children': {'title': 'Children',\n",
       "   'description': 'Number of children covered by health insurance.',\n",
       "   'minimum': 0,\n",
       "   'maximum': 5,\n",
       "   'type': 'integer'},\n",
       "  'smoker': {'title': 'Smoker',\n",
       "   'description': 'Whether beneficiary is a smoker.',\n",
       "   'type': 'boolean'},\n",
       "  'region': {'title': 'Region',\n",
       "   'description': 'Region where beneficiary lives.',\n",
       "   'allOf': [{'$ref': '#/definitions/RegionEnum'}]}},\n",
       " 'definitions': {'SexEnum': {'title': 'SexEnum',\n",
       "   'description': \"Enumeration for the value of the 'sex' input of the model.\",\n",
       "   'enum': ['male', 'female'],\n",
       "   'type': 'string'},\n",
       "  'RegionEnum': {'title': 'RegionEnum',\n",
       "   'description': \"Enumeration for the value of the 'region' input of the model.\",\n",
       "   'enum': ['southwest', 'southeast', 'northwest', 'northeast'],\n",
       "   'type': 'string'}}}"
      ]
     },
     "execution_count": 6,
     "metadata": {},
     "output_type": "execute_result"
    }
   ],
   "source": [
    "model.input_schema.schema()"
   ]
  },
  {
   "cell_type": "markdown",
   "id": "e25b0005",
   "metadata": {},
   "source": [
    "We'll make use of the model's input schema to create the load testing script."
   ]
  },
  {
   "cell_type": "markdown",
   "id": "79bc9cd7",
   "metadata": {},
   "source": [
    "## Profiling the Model\n",
    "\n",
    "In order to get an idea of how much time it takes for our model to make a prediction, we'll profile it by making predictions with random data. To do this, we'll use the [Faker package](https://faker.readthedocs.io/en/master/). We can install it with this command:"
   ]
  },
  {
   "cell_type": "code",
   "execution_count": 7,
   "id": "9637eb25",
   "metadata": {},
   "outputs": [],
   "source": [
    "!pip install Faker\n",
    "\n",
    "clear_output()"
   ]
  },
  {
   "cell_type": "markdown",
   "id": "bdd2a7f2",
   "metadata": {},
   "source": [
    "We'll create a function that can generate a random sample that meets the model's input schema:"
   ]
  },
  {
   "cell_type": "code",
   "execution_count": 8,
   "id": "96c522db",
   "metadata": {},
   "outputs": [],
   "source": [
    "from faker import Faker\n",
    "\n",
    "faker = Faker()\n",
    "\n",
    "def generate_record() -> InsuranceChargesModelInput:\n",
    "    record = {\n",
    "        \"age\": faker.random_int(min=18, max=65),\n",
    "        \"sex\": faker.random_choices(elements=(\"male\", \"female\"), length=1)[0],\n",
    "        \"bmi\": faker.random_int(min=15000, max=50000)/1000.0,\n",
    "        \"children\": faker.random_int(min=0, max=5),\n",
    "        \"smoker\": faker.boolean(),\n",
    "        \"region\": faker.random_choices(elements=(\"southwest\", \"southeast\", \"northwest\", \"northeast\"), length=1)[0]\n",
    "    }\n",
    "    return InsuranceChargesModelInput(**record)"
   ]
  },
  {
   "cell_type": "markdown",
   "id": "6d4290bc",
   "metadata": {},
   "source": [
    "The function returns an instance of the InsuranceChargesModelInput class, which is the type required by the model's predict() method. We'll use this function to profile the predict() method of the model.\n",
    "\n",
    "It's really hard to get a complete picture of the performance with one sample, so we'll perform a test with many random samples to see the difference. To start, we'll generate 1000 samples and save them:"
   ]
  },
  {
   "cell_type": "code",
   "execution_count": 9,
   "id": "b3605a3d",
   "metadata": {},
   "outputs": [],
   "source": [
    "samples = []\n",
    "\n",
    "for _ in range(1000):\n",
    "    samples.append(generate_record())"
   ]
  },
  {
   "cell_type": "markdown",
   "id": "445c3a43",
   "metadata": {},
   "source": [
    "By using the timeit module from the standard library, we can measure how much time it takes to call the model's predict method with a random sample. We'll make 1000 predictions."
   ]
  },
  {
   "cell_type": "code",
   "execution_count": 10,
   "id": "9d48772f",
   "metadata": {},
   "outputs": [],
   "source": [
    "import timeit\n",
    "\n",
    "total_seconds = timeit.timeit(\"[model.predict(sample) for sample in samples]\", \n",
    "                              number=1, globals=globals())\n",
    "\n",
    "seconds_per_sample = total_seconds / len(samples)\n",
    "milliseconds_per_sample = seconds_per_sample * 1000.0"
   ]
  },
  {
   "cell_type": "code",
   "execution_count": 11,
   "id": "6db0b50f",
   "metadata": {
    "tags": [
     "hide_code"
    ]
   },
   "outputs": [
    {
     "data": {
      "text/markdown": [
       "The model took 31.74 seconds to perform 1000 predictions, therefore it took 0.032 seconds to make a single prediction. The model takes about 31.74 milliseconds to make a prediction."
      ],
      "text/plain": [
       "<IPython.core.display.Markdown object>"
      ]
     },
     "execution_count": 11,
     "metadata": {},
     "output_type": "execute_result"
    }
   ],
   "source": [
    "md(\"The model took {} seconds to perform 1000 predictions, therefore it took {} seconds \"\n",
    "   \"to make a single prediction. The model takes about {} milliseconds to make a prediction.\"\n",
    "   .format(round(total_seconds, 2),\n",
    "           round(seconds_per_sample, 3),\n",
    "           round(milliseconds_per_sample,2)))"
   ]
  },
  {
   "cell_type": "markdown",
   "id": "2d1440dc",
   "metadata": {},
   "source": [
    "We now have enough information to establish an SLO for the model itself. An acceptable amount of time for the model to make a prediction is 100 ms (this is made up for the sake of the example). Based on the results from the test above, we're pretty sure that the model meets this standard. However, we want to write the requirement directly into the code of the notebook. To do this in a notebook cell, we can simply write an assert statement which checks for the condition:"
   ]
  },
  {
   "cell_type": "code",
   "execution_count": 12,
   "id": "5aea0ff4",
   "metadata": {},
   "outputs": [],
   "source": [
    "assert milliseconds_per_sample < 100, \"Model does not meet the latency SLO.\""
   ]
  },
  {
   "cell_type": "markdown",
   "id": "2d2d6faf",
   "metadata": {},
   "source": [
    "The assertion above did not fail, so the model meets the requirement. This is an example of a way to encode an SLO for the model so that it is checked programatically. We can add code like this to the training code of a model so that we always check the SLO right after a model is trained. If the requirement is not met, the assert statement will cause the notebook to stop executing immediately.\n",
    "\n",
    "We've profiled the model and this provided us with some information about it's performance, however a real load test can only be performed on the model when it is deployed. The reason for this is that in the real world, the users of the model will be accessing the model concurrently, in the example we just did the model was making predictions serially and was not used by many users at the same time. The model was also running in the local memory of the computer, while in a real model deployment there would be a RESTful service working around it, and the model would be accessed through the network."
   ]
  },
  {
   "cell_type": "markdown",
   "id": "10076925",
   "metadata": {},
   "source": [
    "## Creating the Model Service\n",
    "\n",
    "Now that we have profiled the model, we can deploy the model inside of a RESTful service and do a load test on it. To do this, we'll use the [rest_model_service package](https://pypi.org/project/rest-model-service/) to quickly create a RESTful service. You can learn more about this package in [this blog post](https://www.tekhnoal.com/rest-model-service.html)."
   ]
  },
  {
   "cell_type": "code",
   "execution_count": 13,
   "id": "782e6baf",
   "metadata": {},
   "outputs": [],
   "source": [
    "!pip install rest_model_service\n",
    "\n",
    "clear_output()"
   ]
  },
  {
   "cell_type": "markdown",
   "id": "40497411",
   "metadata": {},
   "source": [
    "To create a service for our model, all that is needed is that we add a YAML configuration file to the project. The configuration file looks like this:\n",
    "\n",
    "```yaml\n",
    "service_title: Insurance Charges Model Service\n",
    "models:\n",
    "  - qualified_name: insurance_charges_model\n",
    "    class_path: insurance_charges_model.prediction.model.InsuranceChargesModel\n",
    "    create_endpoint: true\n",
    "```\n",
    "\n",
    "This YAML file is in the \"configuration\" folder of the project repository.\n",
    "\n",
    "The service_title field is the name of the service as it will appear in the documentation. The models field is an array that contains the details of the models we would like to deploy in the service. The class_path points at the MLModel class that implement's the model's prediction logic, in this case we'll be using the same model as in the examples above. \n",
    "\n",
    "To run the service locally, execute these commands:\n",
    "\n",
    "```bash\n",
    "export PYTHONPATH=./\n",
    "export REST_CONFIG=./configuration/local_rest_config.yaml\n",
    "uvicorn rest_model_service.main:app --reload\n",
    "```\n",
    "\n",
    "The service should come up and can be accessed in a web browser at http://127.0.0.1:8000. When you access that URL using a web browser you will be redirected to the documentation page that is generated by the FastAPI package. The documentation looks like this:\n",
    "\n",
    "![Service Documentation](service_documentation_ltfmlm.png)\n",
    "![Service Documentation]({attach}service_documentation_ltfmlm.png){ width=100% }\n",
    "\n",
    "As you can see the Insurance Charges Model got it's own endpoint.\n",
    "\n",
    "We can try out the service with this command:"
   ]
  },
  {
   "cell_type": "code",
   "execution_count": 14,
   "id": "06134cc1",
   "metadata": {},
   "outputs": [
    {
     "name": "stdout",
     "output_type": "stream",
     "text": [
      "{\"charges\":8640.78}"
     ]
    }
   ],
   "source": [
    "!curl -X 'POST' \\\n",
    "  'http://127.0.0.1:8000/api/models/insurance_charges_model/prediction' \\\n",
    "  -H 'accept: application/json' \\\n",
    "  -H 'Content-Type: application/json' \\\n",
    "  -d \"{ \\\n",
    "        \\\"age\\\": 42, \\\n",
    "        \\\"sex\\\": \\\"female\\\", \\\n",
    "        \\\"bmi\\\": 24.0, \\\n",
    "        \\\"children\\\": 2, \\\n",
    "        \\\"smoker\\\": false, \\\n",
    "        \\\"region\\\": \\\"northwest\\\" \\\n",
    "    }\""
   ]
  },
  {
   "cell_type": "markdown",
   "id": "5cb906ff",
   "metadata": {},
   "source": [
    "By accessing the model's endpoint we were able to make a prediction. We got exactly the same prediction as when we installed the model in the example above.\n",
    "\n",
    "By using the MLModel base class provided by the ml_base package and the REST service framework provided by the rest_model_service package we're able to quickly stand up a service to host the model. "
   ]
  },
  {
   "cell_type": "markdown",
   "id": "7d191a69",
   "metadata": {},
   "source": [
    "## Creating a Load Testing Script\n",
    "\n",
    "To create a load testing script, we'll use the [locust package](https://locust.io/). We'll install the package with this command:"
   ]
  },
  {
   "cell_type": "code",
   "execution_count": 15,
   "id": "da5cec86",
   "metadata": {},
   "outputs": [],
   "source": [
    "!pip install locust\n",
    "\n",
    "clear_output()"
   ]
  },
  {
   "cell_type": "markdown",
   "id": "6dbf5d9e",
   "metadata": {},
   "source": [
    "In order to run a load test with locust, we need to define what requests the locust package will make to the model service. To do this we need to define an HttpUser class.\n",
    "\n",
    "```python\n",
    "from locust import HttpUser, constant_throughput, task\n",
    "from faker import Faker\n",
    "\n",
    "\n",
    "class ModelServiceUser(HttpUser):\n",
    "    wait_time = constant_throughput(1)\n",
    "\n",
    "    @task\n",
    "    def post_prediction(self):\n",
    "        faker = Faker()\n",
    "        \n",
    "        record = {\n",
    "            \"age\": faker.random_int(min=18, max=65),\n",
    "            \"sex\": faker.random_choices(elements=(\"male\", \"female\"), length=1)[0],\n",
    "            \"bmi\": faker.random_int(min=15000, max=50000) / 1000.0,\n",
    "            \"children\": faker.random_int(min=0, max=5),\n",
    "            \"smoker\": faker.boolean(),\n",
    "            \"region\": faker.random_choices(\n",
    "                elements=(\"southwest\", \"southeast\", \"northwest\", \"northeast\"), length=1)[0]\n",
    "        }\n",
    "        self.client.post(\"/api/models/insurance_charges_model/prediction\", json=record)\n",
    "```\n",
    "\n",
    "The class above makes a single request to the prediction endpoint in the model service, generating a random sample using the same code that we used to profile the model above. The load test consists of a single task that will be executed over and over, but we can easily add other tasks if we wanted to use the model in different ways. The wait_time attribute of the class is set to a constant throughout of 1, which means that each task will be executed at most 1 time per second by each simulated user in the load test. We can use this throuput and the number of concurrent users to create a realistic load test profile.\n",
    "\n",
    "The code above is saved in the load_test.py file in the tests folder in the repository. We can launch a load test with this command:\n",
    "\n",
    "```bash\n",
    "locust -f tests/load_test.py\n",
    "```\n",
    "\n",
    "The load test process starts up a web app that can be accessed locally on http://127.0.0.1:8089.\n",
    "\n",
    "![Locust UI](locust_ui_ltfmlm.png)\n",
    "![Locust UI]({attach}locust_ui_ltfmlm.png){ width=100% }\n",
    "\n",
    "To start a load test, the locust web app asks for the number of users to simulate, the spawn rate of users, and the base url of the service to send requests to. We set the number of users to 1, the spawn rate to 1 per second, and the url to the service instance that is currently running on the local host.\n",
    "\n",
    "When we click on the \"Start swarming\" button, the load test starts and we can see this screen:\n",
    "\n",
    "![Locust Load Test](locust_load_test_ltfmlm.png)\n",
    "![Locust Load Test]({attach}locust_load_test_ltfmlm.png){ width=100% }\n",
    "\n",
    "The load test is running and sending requests to the model service at the rate of one request per second from one user. The web UI also shows some charts in a separate tab in the UI, for example the total requests per second:\n",
    "\n",
    "![Total Requests Per Second](total_requests_per_second_ltfmlm.png)\n",
    "![Total Requests Per Second]({attach}total_requests_per_second_ltfmlm.png){ width=100% }\n",
    "\n",
    "The response time is milliseconds:\n",
    "\n",
    "![Response Time in Milliseconds](response_time_in_milliseconds_ltfmlm.png)\n",
    "![Response Time in Milliseconds]({attach}response_time_in_milliseconds_ltfmlm.png){ width=100% }\n",
    "\n",
    "And the number of users:\n",
    "\n",
    "![Number Of Users](number_of_users_ltfmlm.png)\n",
    "![Number Of Users]({attach}number_of_users_ltfmlm.png){ width=100% }\n",
    "\n",
    "When we're ready to stop the load test, we can click on the \"Stop\" button in the upper right corner.\n",
    "\n",
    "Determining whether the model service meets the SLO is as simple as inspecting the \"Statistics\" tab.\n",
    "\n",
    "![Statistics Tab](statistics_ltfmlm.png)\n",
    "![Statistics Tab]({attach}statistics_ltfmlm.png){ width=100% }\n",
    "\n",
    "We can see that the maximum latency of the prediction request was 122 milliseconds, which does not meet our SLO of 100 ms. However, using the max is often a noisy measurement because it can be affected by many different environmental factors. It's better to use the 90th or 99th percentile. In this case the 99th percentile is 89 ms, which does meet our SLO.\n",
    "\n",
    "This load test is not very realistic because it only has one concurrent user. In the next load tests, we'll add more concurrent users to make it more realistic."
   ]
  },
  {
   "cell_type": "markdown",
   "id": "5bab2fc2",
   "metadata": {},
   "source": [
    "## Adding Shape to the Load Test\n",
    "\n",
    "Right now the load test script is able to simulate one concurrent user making one request to the service per second. This is a good place to start, but we should test the service with more users. The load test is also designed to run indefinitely with the same number of users. We will add \"shape\" to the load test by raising the number of users over of time and then lowering the number of users back down. This will show us the performance of the service over many load conditions. We'll also stop the load test after the load test returns to the baseline, this will help us to automate the load test later.\n",
    "\n",
    "To add a \"shape\" to the load test, we'll add a class that is a subclass of LoadTestShape to the load test file:\n",
    "\n",
    "```python\n",
    "from locust import LoadTestShape\n",
    "\n",
    "\n",
    "class StagesShape(LoadTestShape):\n",
    "    \"\"\"Simple load test shape class.\"\"\"\n",
    "\n",
    "    stages = [\n",
    "        {\"duration\": 30, \"users\": 1, \"spawn_rate\": 1},\n",
    "        {\"duration\": 60, \"users\": 2, \"spawn_rate\": 1},\n",
    "        {\"duration\": 90, \"users\": 3, \"spawn_rate\": 1},\n",
    "        {\"duration\": 120, \"users\": 4, \"spawn_rate\": 1},\n",
    "        {\"duration\": 150, \"users\": 5, \"spawn_rate\": 1},\n",
    "        {\"duration\": 180, \"users\": 4, \"spawn_rate\": 1},\n",
    "        {\"duration\": 210, \"users\": 3, \"spawn_rate\": 1},\n",
    "        {\"duration\": 240, \"users\": 2, \"spawn_rate\": 1},\n",
    "        {\"duration\": 270, \"users\": 1, \"spawn_rate\": 1}\n",
    "    ]\n",
    "\n",
    "    def tick(self):\n",
    "        run_time = self.get_run_time()\n",
    "\n",
    "        for stage in self.stages:\n",
    "            if run_time < stage[\"duration\"]:\n",
    "                tick_data = (stage[\"users\"], stage[\"spawn_rate\"])\n",
    "                return tick_data\n",
    "        # returning None to stop the load test\n",
    "        return None\n",
    "```\n",
    "\n",
    "The tick() method is called once per second by the locust framework to determine the number of users needed and how fast to spawn the users. The tick() method looks up the desired number of users and spawn rate from the stages list. The tick() method simply iterates through the list until it finds the correct stage to use based on the number of elapsed seconds since the beginning of the load test. We defined 9 stages in the stages list, with each stage taking 30 seconds, the max number of concurrent users will be 5.\n",
    "\n",
    "To run the load test, simply execute the same command as above:\n",
    "\n",
    "```bash\n",
    "locust -f tests/load_test.py\n",
    "```\n",
    "\n",
    "The load test will start when we press the \"Start swarming\" button, as before. However, this load test will vary the number of users according to the shape defined in the class. Since the number of users and spawn rate is determined by the shape class, we dont need to provide these to start the load test.\n",
    "\n",
    "The load test runs for six minutes and the number of users chart looks like this:\n",
    "\n",
    "![Number Of Users](shaped_number_of_users_ltfmlm.png)\n",
    "![Number Of Users]({attach}shaped_number_of_users_ltfmlm.png){ width=100% }\n",
    "\n",
    "The response time chart looks like this:\n",
    "\n",
    "![Response Time](shaped_response_time_ltfmlm.png)\n",
    "![Response Time]({attach}shaped_response_time_ltfmlm.png){ width=100% }\n",
    "\n",
    "The response time of the service definitely suffered when the number of users went above 1, and the maximum response time of the service was 225 ms. It looks like a single instance of the model service cannot handle much more than 1 concurrent users making one request per second.\n",
    "\n",
    "The requests per second chart looks like this:\n",
    "\n",
    "![Requests Per Second](shaped_requests_per_second_ltfmlm.png)\n",
    "![Requests Per Second]({attach}shaped_requests_per_second_ltfmlm.png){ width=100% }\n",
    "\n",
    "The number of requests per second scaled with the number of users because we're making one request per second per user."
   ]
  },
  {
   "cell_type": "markdown",
   "id": "ad518522",
   "metadata": {},
   "source": [
    "## Adding Service Level Objectives\n",
    "\n",
    "Right now, the load test script simply runs the load test and displays the results on a webpage. However, we can make it more  useful by adding support for SLOs.  For example, we can have the load test fail if the latency of any request is above a certain threshold, or if the average latency of all requests is above a certain threshold.\n",
    "\n",
    "We'll add support for checking the following SLOs:\n",
    "- latency, we'll check that the latency at the 99th percentile is less than 100 ms\n",
    "- error rate, we'll check that there are no errors returned on any request\n",
    "- throughput, we'll check that the service can handle at least 5 requests per second\n",
    "\n",
    "To do this we'll add a listener function that receives events from the locust package:\n",
    "\n",
    "```python\n",
    "import logging\n",
    "\n",
    "logger = logging.getLogger(__name__)\n",
    "\n",
    "\n",
    "@events.test_stop.add_listener\n",
    "def on_test_stop(environment, **kwargs):\n",
    "    process_exit_code = 0\n",
    "\n",
    "    max_requests_per_second = max(\n",
    "        [requests_per_second for requests_per_second in environment.stats.total.num_reqs_per_sec.values()])\n",
    "\n",
    "    if environment.stats.total.fail_ratio > 0.0:\n",
    "        logger.error(\"Test failed because there was one or more errors.\")\n",
    "        process_exit_code = 1\n",
    "\n",
    "    if environment.stats.total.get_response_time_percentile(0.99) > 100:\n",
    "        logger.error(\"Test failed because the response time at the 99th percentile was above 100 ms. The 99th \"\n",
    "                     \"percentile latency is '{}'.\".format(environment.stats.total.get_response_time_percentile(0.99)))\n",
    "        process_exit_code = 1\n",
    "\n",
    "    if max_requests_per_second < 5:\n",
    "        logger.error(\n",
    "            \"Test failed because the max requests per second never reached 5. The max requests per second \"\n",
    "            \"is: '{}'.\".format(max_requests_per_second))\n",
    "        process_exit_code = 1\n",
    "\n",
    "    environment.process_exit_code = process_exit_code\n",
    "```\n",
    "\n",
    "The on_test_quitting function is going to execute at the end of every load test. This function can access all of the statistics saved by the load test, we can check the different conditions by accessing the statistics. If any of the SLOs are not met, we set the process exit code to be 1, which signals a failure to the operating system.\n",
    "\n",
    "To run the load test, execute the same command as above. When the load test finishes, the process will output the results to the command line. In this case the load test failed with this output:\n",
    "\n",
    "```bash\n",
    "Test failed because the response time at the 99th percentile was above 100 ms. The 99th percentile latency is '180.0'.\n",
    "```"
   ]
  },
  {
   "cell_type": "markdown",
   "id": "30d4c1fd",
   "metadata": {},
   "source": [
    "## Running a Headless Load Test\n",
    "\n",
    "The locust package can also run load test without the web UI. This is useful for doing automated load tests that run in a server, without anyone watching the UI. The command is:\n",
    "\n",
    "```bash\n",
    "locust -f tests/load_test.py --host=http://127.0.0.1:8000 --headless --loglevel ERROR --csv=./load_test_report/load_test --html ./load_test_report/load_test_report.html\n",
    "```\n",
    "\n",
    "Once the test finishes, we see the same error as above because the load test did not meet the SLO required. The error message is:\n",
    "\n",
    "```\n",
    "Test failed because the response time at the 99th percentile was above 100 ms. The 99th percentile latency is '180.0'.\n",
    "```\n",
    "\n",
    "All of the code for the load test script is found in the \"test/load_test.py\" file in the repository for this blog post. The results are stored in CSV files and an HTML file in the \"load_test_report\" folder."
   ]
  },
  {
   "cell_type": "markdown",
   "id": "01580c56",
   "metadata": {},
   "source": [
    "## Building a Docker Image\n",
    "\n",
    "Now that we have a working model and model service, we'll need to deploy it somewhere. We'll start by deploying the service locally using Docker. \n",
    "\n",
    "Let's create a docker image and run it locally. The docker image is generated using instructions in the Dockerfile:\n",
    "\n",
    "```dockerfile\n",
    "# syntax=docker/dockerfile:1\n",
    "FROM python:3.9-slim\n",
    "\n",
    "ARG BUILD_DATE\n",
    "\n",
    "LABEL org.opencontainers.image.title=\"Load Tests for ML Models\"\n",
    "LABEL org.opencontainers.image.description=\"Load tests for machine learning models.\"\n",
    "LABEL org.opencontainers.image.created=$BUILD_DATE\n",
    "LABEL org.opencontainers.image.authors=\"6666331+schmidtbri@users.noreply.github.com\"\n",
    "LABEL org.opencontainers.image.source=\"https://github.com/schmidtbri/load-tests-for-ml-models\"\n",
    "LABEL org.opencontainers.image.version=\"0.1.0\"\n",
    "LABEL org.opencontainers.image.licenses=\"MIT License\"\n",
    "LABEL org.opencontainers.image.base.name=\"python:3.9-slim\"\n",
    "\n",
    "WORKDIR /service\n",
    "\n",
    "ARG USERNAME=service-user\n",
    "ARG USER_UID=1000\n",
    "ARG USER_GID=1000\n",
    "\n",
    "RUN apt-get update\n",
    "\n",
    "# create a user\n",
    "RUN groupadd --gid $USER_GID $USERNAME \\\n",
    "    && useradd --uid $USER_UID --gid $USER_GID -m $USERNAME \\\n",
    "    && apt-get install --assume-yes --no-install-recommends sudo \\\n",
    "    && echo $USERNAME ALL=\\(root\\) NOPASSWD:ALL > /etc/sudoers.d/$USERNAME \\\n",
    "    && chmod 0440 /etc/sudoers.d/$USERNAME\n",
    "\n",
    "# installing git because we need to install the model package from it's own github repository\n",
    "RUN apt-get install --assume-yes --no-install-recommends git\n",
    "\n",
    "RUN apt-get clean \\\n",
    "    && rm -rf /var/lib/apt/lists/*\n",
    "\n",
    "# installing dependencies first in order to speed up build by using cached layers\n",
    "COPY ./service_requirements.txt ./service_requirements.txt\n",
    "RUN pip install -r service_requirements.txt\n",
    "\n",
    "COPY ./configuration ./configuration\n",
    "COPY ./LICENSE ./LICENSE\n",
    "\n",
    "CMD [\"uvicorn\", \"rest_model_service.main:app\", \"--host\", \"0.0.0.0\", \"--port\", \"8000\"]\n",
    "\n",
    "USER $USERNAME\n",
    "```\n",
    "\n",
    "The Dockerfile is used by this docker command to create a docker image:"
   ]
  },
  {
   "cell_type": "code",
   "execution_count": 16,
   "id": "2dbf92c8",
   "metadata": {},
   "outputs": [],
   "source": [
    "!docker build -t insurance_charges_model_service:latest ../\n",
    "\n",
    "clear_output()"
   ]
  },
  {
   "cell_type": "markdown",
   "id": "dc8515a0",
   "metadata": {},
   "source": [
    "To make sure everything worked as expected, we'll look through the docker images in our system:"
   ]
  },
  {
   "cell_type": "code",
   "execution_count": 17,
   "id": "4ea753e1",
   "metadata": {},
   "outputs": [
    {
     "name": "stdout",
     "output_type": "stream",
     "text": [
      "insurance_charges_model_service   latest    446f5f06805f   37 seconds ago   1.25GB\r\n"
     ]
    }
   ],
   "source": [
    "!docker image ls | grep insurance_charges_model_service"
   ]
  },
  {
   "cell_type": "markdown",
   "id": "2f67e062",
   "metadata": {},
   "source": [
    "Next, we'll start the image to see if everything is working as expected."
   ]
  },
  {
   "cell_type": "code",
   "execution_count": 18,
   "id": "dc526566",
   "metadata": {},
   "outputs": [
    {
     "name": "stdout",
     "output_type": "stream",
     "text": [
      "44c4794160f941e44d1670b70c7fd5722c41bf0c2e470a0b0c8648c966b9923b\r\n"
     ]
    }
   ],
   "source": [
    "!docker run -d \\\n",
    "    -p 8000:8000 \\\n",
    "    -e REST_CONFIG=./configuration/local_rest_config.yaml \\\n",
    "    --name insurance_charges_model_service \\\n",
    "    insurance_charges_model_service:latest"
   ]
  },
  {
   "cell_type": "markdown",
   "id": "56590132",
   "metadata": {},
   "source": [
    "The service should be accessible on port 8000 of localhost, so we'll try to make a prediction:"
   ]
  },
  {
   "cell_type": "code",
   "execution_count": 19,
   "id": "97bd6d23",
   "metadata": {},
   "outputs": [
    {
     "name": "stdout",
     "output_type": "stream",
     "text": [
      "{\"charges\":8640.78}"
     ]
    }
   ],
   "source": [
    "!curl -X 'POST' \\\n",
    "  'http://127.0.0.1:8000/api/models/insurance_charges_model/prediction' \\\n",
    "  -H 'accept: application/json' \\\n",
    "  -H 'Content-Type: application/json' \\\n",
    "  -d \"{ \\\n",
    "        \\\"age\\\": 42, \\\n",
    "        \\\"sex\\\": \\\"female\\\", \\\n",
    "        \\\"bmi\\\": 24.0, \\\n",
    "        \\\"children\\\": 2, \\\n",
    "        \\\"smoker\\\": false, \\\n",
    "        \\\"region\\\": \\\"northwest\\\" \\\n",
    "    }\""
   ]
  },
  {
   "cell_type": "markdown",
   "id": "95886e1e",
   "metadata": {},
   "source": [
    "We'll use the model service Docker image to deploy the model service and automate the load test later.\n",
    "\n",
    "Now that we're done with the local redis instance we'll stop and remove the docker container."
   ]
  },
  {
   "cell_type": "code",
   "execution_count": 20,
   "id": "204939fa",
   "metadata": {},
   "outputs": [
    {
     "name": "stdout",
     "output_type": "stream",
     "text": [
      "insurance_charges_model_service\n",
      "insurance_charges_model_service\n"
     ]
    }
   ],
   "source": [
    "!docker kill insurance_charges_model_service\n",
    "!docker rm insurance_charges_model_service"
   ]
  },
  {
   "cell_type": "markdown",
   "id": "88c25aae",
   "metadata": {},
   "source": [
    "## Deploying the Model Service\n",
    "\n",
    "To show the system in action, we’ll deploy the service and the Redis instance to a Kubernetes cluster. A local cluster can be easily started by using [minikube](https://minikube.sigs.k8s.io/docs/). Installation instructions can be found [here](https://minikube.sigs.k8s.io/docs/start/).\n",
    "\n",
    "To start the minikube cluster execute this command:"
   ]
  },
  {
   "cell_type": "code",
   "execution_count": 21,
   "id": "c3b772a3",
   "metadata": {},
   "outputs": [
    {
     "name": "stdout",
     "output_type": "stream",
     "text": [
      "😄  minikube v1.26.1 on Darwin 12.5\n",
      "✨  Using the virtualbox driver based on existing profile\n",
      "👍  Starting control plane node minikube in cluster minikube\n",
      "🔄  Restarting existing virtualbox VM for \"minikube\" ...\n",
      "🐳  Preparing Kubernetes v1.24.3 on Docker 20.10.17 ...\u001b[K\u001b[K\u001b[K\u001b[K\n",
      "    ▪ controller-manager.horizontal-pod-autoscaler-sync-period=5s\n",
      "🔎  Verifying Kubernetes components...\n",
      "    ▪ Using image k8s.gcr.io/metrics-server/metrics-server:v0.6.1\n",
      "    ▪ Using image gcr.io/k8s-minikube/storage-provisioner:v5\n",
      "    ▪ Using image kubernetesui/dashboard:v2.6.0\n",
      "    ▪ Using image kubernetesui/metrics-scraper:v1.0.8\n",
      "🌟  Enabled addons: dashboard\n",
      "🏄  Done! kubectl is now configured to use \"minikube\" cluster and \"default\" namespace by default\n"
     ]
    }
   ],
   "source": [
    "!minikube start"
   ]
  },
  {
   "cell_type": "markdown",
   "id": "6b6344bd",
   "metadata": {},
   "source": [
    "We'll need to use the [Kubernetes Dashboard](https://github.com/kubernetes/dashboard) to view details about the model service. We can start it up in the minikube cluster with this command:\n",
    "\n",
    "```bash\n",
    "minikube dashboard --url\n",
    "```\n",
    "\n",
    "The command starts up a proxy that must keep running in order to forward the traffic to the dashboard UI in the minikube cluster.\n",
    "\n",
    "The dashboard UI looks like this:\n",
    "\n",
    "![Kubernetes Dashboard](kubernetes_dashboard_ltfmlm.png)\n",
    "![Kubernetes Dashboard]({attach}kubernetes_dashboard_ltfmlm.png){ width=100% }\n",
    "\n",
    "We'll also need to use the [metrics server](https://github.com/kubernetes-sigs/metrics-server#readme) in Kubernetes. We can enable that in minikube with this command:"
   ]
  },
  {
   "cell_type": "code",
   "execution_count": 22,
   "id": "c28be7f3",
   "metadata": {},
   "outputs": [
    {
     "name": "stdout",
     "output_type": "stream",
     "text": [
      "💡  metrics-server is an addon maintained by Kubernetes. For any concerns contact minikube on GitHub.\n",
      "You can view the list of minikube maintainers at: https://github.com/kubernetes/minikube/blob/master/OWNERS\n",
      "    ▪ Using image k8s.gcr.io/metrics-server/metrics-server:v0.6.1\n",
      "🌟  The 'metrics-server' addon is enabled\n"
     ]
    }
   ],
   "source": [
    "!minikube addons enable metrics-server"
   ]
  },
  {
   "cell_type": "markdown",
   "id": "efb915d5",
   "metadata": {},
   "source": [
    "Let's view all of the pods running in the minikube cluster to make sure we can connect."
   ]
  },
  {
   "cell_type": "code",
   "execution_count": 23,
   "id": "d9033e8b",
   "metadata": {},
   "outputs": [
    {
     "name": "stdout",
     "output_type": "stream",
     "text": [
      "NAMESPACE              NAME                                         READY   STATUS    RESTARTS       AGE\r\n",
      "kube-system            coredns-6d4b75cb6d-wrrwr                     1/1     Running   16 (22h ago)   23d\r\n",
      "kube-system            etcd-minikube                                1/1     Running   16 (22h ago)   23d\r\n",
      "kube-system            kube-apiserver-minikube                      1/1     Running   16 (22h ago)   23d\r\n",
      "kube-system            kube-controller-manager-minikube             1/1     Running   2 (22h ago)    24h\r\n",
      "kube-system            kube-proxy-5n4t9                             1/1     Running   15 (22h ago)   23d\r\n",
      "kube-system            kube-scheduler-minikube                      1/1     Running   14 (22h ago)   23d\r\n",
      "kube-system            metrics-server-8595bd7d4c-ptcsp              1/1     Running   12 (22h ago)   4d2h\r\n",
      "kube-system            storage-provisioner                          1/1     Running   25 (24s ago)   23d\r\n",
      "kubernetes-dashboard   dashboard-metrics-scraper-78dbd9dbf5-xslpl   1/1     Running   8 (22h ago)    4d2h\r\n",
      "kubernetes-dashboard   kubernetes-dashboard-5fd5574d9f-vbtnd        1/1     Running   10 (22h ago)   4d2h\r\n"
     ]
    }
   ],
   "source": [
    "!kubectl get pods -A"
   ]
  },
  {
   "cell_type": "markdown",
   "id": "09542670",
   "metadata": {},
   "source": [
    "The pods running the kubernetes dashboard and metrics server appear in the kube-system and kubernetes-dashboard namespaces."
   ]
  },
  {
   "cell_type": "markdown",
   "id": "21067628",
   "metadata": {},
   "source": [
    "### Creating a Kubernetes Namespace\n",
    "\n",
    "Now that we have a cluster and are connected to it, we'll create a namespace to hold the resources for our model deployment. The resource definition is in the kubernetes/namespace.yaml file. To apply the manifest to the cluster, execute this command:"
   ]
  },
  {
   "cell_type": "code",
   "execution_count": 26,
   "id": "b76162e5",
   "metadata": {},
   "outputs": [
    {
     "name": "stdout",
     "output_type": "stream",
     "text": [
      "namespace/model-services created\r\n"
     ]
    }
   ],
   "source": [
    "!kubectl create -f ../kubernetes/namespace.yaml"
   ]
  },
  {
   "cell_type": "markdown",
   "id": "cde29805",
   "metadata": {},
   "source": [
    "To take a look at the namespaces, execute this command:"
   ]
  },
  {
   "cell_type": "code",
   "execution_count": 27,
   "id": "2e81a9d3",
   "metadata": {},
   "outputs": [
    {
     "name": "stdout",
     "output_type": "stream",
     "text": [
      "NAME                   STATUS   AGE\r\n",
      "default                Active   23d\r\n",
      "kube-node-lease        Active   23d\r\n",
      "kube-public            Active   23d\r\n",
      "kube-system            Active   23d\r\n",
      "kubernetes-dashboard   Active   4d2h\r\n",
      "model-services         Active   1s\r\n"
     ]
    }
   ],
   "source": [
    "!kubectl get namespace"
   ]
  },
  {
   "cell_type": "markdown",
   "id": "922fcaa2",
   "metadata": {},
   "source": [
    "The new namespace appears in the listing along with other namespaces created by default by the system. To use the new namespace for the rest of the operations, execute this command:"
   ]
  },
  {
   "cell_type": "code",
   "execution_count": 28,
   "id": "72f9c04d",
   "metadata": {},
   "outputs": [
    {
     "name": "stdout",
     "output_type": "stream",
     "text": [
      "Context \"minikube\" modified.\r\n"
     ]
    }
   ],
   "source": [
    "!kubectl config set-context --current --namespace=model-services"
   ]
  },
  {
   "cell_type": "markdown",
   "id": "c493c90f",
   "metadata": {},
   "source": [
    "### Creating a Model Deployment and Service\n",
    "\n",
    "The model service is deployed by using Kubernetes resources. These are:\n",
    "\n",
    "- ConfigMap: a set of configuration options, in this case it is a simple YAML file that will be loaded into the running container as a volume mount. This resource allows us to change the configuration of the model service without having to modify the Docker image.\n",
    "- Deployment: a declarative way to manage a set of pods, the model service pods are managed through the Deployment.\n",
    "- Service: a way to expose a set of pods in a Deployment, the model services is made available to the outside world through the Service, the service type is LoadBalancer which means that a load balancer will be created for the service.\n",
    "\n",
    "These resources are defined in the ./kubernetes/model_service.yaml file in the project repository.\n",
    "\n",
    "To start the model service, first we'll need to send the docker image from the local docker daemon to the minikube image cache:"
   ]
  },
  {
   "cell_type": "code",
   "execution_count": 29,
   "id": "2d5a526b",
   "metadata": {},
   "outputs": [],
   "source": [
    "!minikube image load insurance_charges_model_service:latest"
   ]
  },
  {
   "cell_type": "markdown",
   "id": "871ff01d",
   "metadata": {},
   "source": [
    "We can view the images in the minikube cache like this:"
   ]
  },
  {
   "cell_type": "code",
   "execution_count": 30,
   "id": "6b8d399e",
   "metadata": {},
   "outputs": [
    {
     "name": "stdout",
     "output_type": "stream",
     "text": [
      "insurance_charges_model_service:latest\r\n"
     ]
    }
   ],
   "source": [
    "!minikube cache list"
   ]
  },
  {
   "cell_type": "markdown",
   "id": "308a00bb",
   "metadata": {},
   "source": [
    "The model service resources are created within the Kubernetes cluster with this command:"
   ]
  },
  {
   "cell_type": "code",
   "execution_count": 31,
   "id": "a86ea6b7",
   "metadata": {},
   "outputs": [
    {
     "name": "stdout",
     "output_type": "stream",
     "text": [
      "configmap/model-service-configuration created\r\n",
      "deployment.apps/insurance-charges-model-deployment created\r\n",
      "service/insurance-charges-model-service created\r\n"
     ]
    }
   ],
   "source": [
    "!kubectl apply -f ../kubernetes/model_service.yaml"
   ]
  },
  {
   "cell_type": "markdown",
   "id": "cba98847",
   "metadata": {},
   "source": [
    "Let's get the names of the pods that are running the service:"
   ]
  },
  {
   "cell_type": "code",
   "execution_count": 32,
   "id": "6414948e",
   "metadata": {},
   "outputs": [
    {
     "name": "stdout",
     "output_type": "stream",
     "text": [
      "NAME                                                  READY   STATUS    RESTARTS   AGE\r\n",
      "insurance-charges-model-deployment-5454fc7cfb-rhl2t   1/1     Running   0          4s\r\n"
     ]
    }
   ],
   "source": [
    "!kubectl get pods"
   ]
  },
  {
   "cell_type": "markdown",
   "id": "ca05f4ba",
   "metadata": {},
   "source": [
    "To make sure the service started up correctly, we'll check the logs of the single pod running the service:"
   ]
  },
  {
   "cell_type": "code",
   "execution_count": 33,
   "id": "d4500693",
   "metadata": {},
   "outputs": [
    {
     "name": "stdout",
     "output_type": "stream",
     "text": [
      "/usr/local/lib/python3.9/site-packages/tpot/builtins/__init__.py:36: UserWarning: Warning: optional dependency `torch` is not available. - skipping import of NN models.\r\n",
      "  warnings.warn(\"Warning: optional dependency `torch` is not available. - skipping import of NN models.\")\r\n",
      "INFO:     Started server process [1]\r\n",
      "INFO:     Waiting for application startup.\r\n",
      "INFO:     Application startup complete.\r\n",
      "INFO:     Uvicorn running on http://0.0.0.0:8000 (Press CTRL+C to quit)\r\n"
     ]
    }
   ],
   "source": [
    "!kubectl logs insurance-charges-model-deployment-5454fc7cfb-rhl2t"
   ]
  },
  {
   "cell_type": "markdown",
   "id": "1b13da40",
   "metadata": {},
   "source": [
    "Looks like the server process started correctly in the Docker container. The UserWarning is generated when we instantiate the model object, which means everything is running as expected.\n",
    "\n",
    "The deployment and service for the model service were created together. You can see the new service with this command:"
   ]
  },
  {
   "cell_type": "code",
   "execution_count": 34,
   "id": "2d118aa3",
   "metadata": {},
   "outputs": [
    {
     "name": "stdout",
     "output_type": "stream",
     "text": [
      "NAME                              TYPE       CLUSTER-IP      EXTERNAL-IP   PORT(S)        AGE\r\n",
      "insurance-charges-model-service   NodePort   10.98.168.223   <none>        80:31687/TCP   48s\r\n"
     ]
    }
   ],
   "source": [
    "!kubectl get services"
   ]
  },
  {
   "cell_type": "markdown",
   "id": "766bf904",
   "metadata": {},
   "source": [
    "Minikube exposes the service on a local port, we can get a link to the endpoint with this command:\n",
    "\n",
    "```bash\n",
    "minikube service insurance-charges-model-service --url -n model-services\n",
    "```\n",
    "\n",
    "The command output this URL:\n",
    "\n",
    "```\n",
    "http://192.168.59.100:31687\n",
    "```\n",
    "\n",
    "The command must keep running to keep the tunnel open to the running model service in the minikube cluster.\n",
    "\n",
    "To make a prediction, we'll hit the service with a request:"
   ]
  },
  {
   "cell_type": "code",
   "execution_count": 35,
   "id": "08e18d7f",
   "metadata": {},
   "outputs": [
    {
     "name": "stdout",
     "output_type": "stream",
     "text": [
      "{\"charges\":25390.95}"
     ]
    }
   ],
   "source": [
    "!curl -X 'POST' \\\n",
    "  'http://192.168.59.100:31687/api/models/insurance_charges_model/prediction' \\\n",
    "  -H 'accept: application/json' \\\n",
    "  -H 'Content-Type: application/json' \\\n",
    "  -d \"{ \\\n",
    "        \\\"age\\\": 65, \\\n",
    "        \\\"sex\\\": \\\"male\\\", \\\n",
    "        \\\"bmi\\\": 22, \\\n",
    "        \\\"children\\\": 5, \\\n",
    "        \\\"smoker\\\": true, \\\n",
    "        \\\"region\\\": \\\"southwest\\\" \\\n",
    "    }\""
   ]
  },
  {
   "cell_type": "markdown",
   "id": "1e0dd8bc",
   "metadata": {},
   "source": [
    "We have the model service up and running in the local minikube cluster!"
   ]
  },
  {
   "cell_type": "markdown",
   "id": "acddc63e",
   "metadata": {},
   "source": [
    "### Running the Load Test\n",
    "\n",
    "We can run the load test by using the IP address and port of the service running in minikube.\n",
    "\n",
    "```bash\n",
    "locust -f tests/load_test.py --host=http://192.168.59.100:31687 --headless --loglevel ERROR --csv=./load_test_report/load_test --html ./load_test_report/load_test_report.html\n",
    "```\n",
    "\n",
    "While the load test is running, we'll check the CPU usage of the single pod running the model service every 15 seconds:"
   ]
  },
  {
   "cell_type": "code",
   "execution_count": 36,
   "id": "d9250030",
   "metadata": {},
   "outputs": [
    {
     "name": "stdout",
     "output_type": "stream",
     "text": [
      "NAME                                                  CPU(cores)   MEMORY(bytes)   \n",
      "insurance-charges-model-deployment-5454fc7cfb-rhl2t   4m           104Mi           \n",
      "insurance-charges-model-deployment-5454fc7cfb-rhl2t   27m          104Mi           \n",
      "insurance-charges-model-deployment-5454fc7cfb-rhl2t   27m          104Mi           \n",
      "insurance-charges-model-deployment-5454fc7cfb-rhl2t   27m          104Mi           \n",
      "insurance-charges-model-deployment-5454fc7cfb-rhl2t   27m          104Mi           \n",
      "insurance-charges-model-deployment-5454fc7cfb-rhl2t   132m         105Mi           \n",
      "insurance-charges-model-deployment-5454fc7cfb-rhl2t   132m         105Mi           \n",
      "insurance-charges-model-deployment-5454fc7cfb-rhl2t   132m         105Mi           \n",
      "insurance-charges-model-deployment-5454fc7cfb-rhl2t   132m         105Mi           \n",
      "insurance-charges-model-deployment-5454fc7cfb-rhl2t   198m         107Mi           \n",
      "insurance-charges-model-deployment-5454fc7cfb-rhl2t   198m         107Mi           \n",
      "insurance-charges-model-deployment-5454fc7cfb-rhl2t   198m         107Mi           \n",
      "insurance-charges-model-deployment-5454fc7cfb-rhl2t   198m         107Mi           \n",
      "insurance-charges-model-deployment-5454fc7cfb-rhl2t   200m         107Mi           \n",
      "insurance-charges-model-deployment-5454fc7cfb-rhl2t   200m         107Mi           \n",
      "insurance-charges-model-deployment-5454fc7cfb-rhl2t   200m         107Mi           \n",
      "insurance-charges-model-deployment-5454fc7cfb-rhl2t   200m         107Mi           \n",
      "insurance-charges-model-deployment-5454fc7cfb-rhl2t   94m          107Mi           \n",
      "insurance-charges-model-deployment-5454fc7cfb-rhl2t   94m          107Mi           \n",
      "insurance-charges-model-deployment-5454fc7cfb-rhl2t   94m          107Mi           \n",
      "Process is interrupted.\n"
     ]
    }
   ],
   "source": [
    "%%bash\n",
    "\n",
    "kubectl top pods\n",
    "\n",
    "while sleep 15; do \n",
    "    kubectl top pods | grep insurance-charges-model-deployment \n",
    "done"
   ]
  },
  {
   "cell_type": "markdown",
   "id": "acb0e3a2",
   "metadata": {},
   "source": [
    "We can clearly see how the CPU usage is affected as the load goes from 1 user to 5 users. The CPU request for the deployment is 100 millicores, and the CPU usage goes as high as 200 millicores. The memory usage did not change very much based on the load.\n",
    "\n",
    "The load test output this error message right before stopping:\n",
    "\n",
    "```\n",
    " Test failed because the response time at the 99th percentile was above 100 ms. The 99th percentile latency is '3300.0'.\n",
    "```\n",
    "\n",
    "We can see that the single instance of the service running in Kubernetes is not enough to meet the requirements of the load test, and that the CPU usage is the limiting factor."
   ]
  },
  {
   "cell_type": "markdown",
   "id": "827982c0",
   "metadata": {},
   "source": [
    "## Adding Autoscaling to the Model Service\n",
    "\n",
    "Kubernetes supports autoscaling, which is the ability to change the resources assigned to a service based on the current load on the service. We'll be doing horizontal scaling, which means that the number of replicas increases and decreases according to the load. Kubernetes supports this kind of autoscaling through the [HorizontalAutoScaler](https://kubernetes.io/docs/tasks/run-application/horizontal-pod-autoscale/) resource.\n",
    "\n",
    "The HorizontalAutoScaler resource is defined like this:\n",
    "\n",
    "```yaml\n",
    "apiVersion: autoscaling/v2\n",
    "kind: HorizontalPodAutoscaler\n",
    "metadata:\n",
    "  name: insurance-charges-model-autoscaler\n",
    "spec:\n",
    "  scaleTargetRef:\n",
    "    apiVersion: apps/v1\n",
    "    kind: Deployment\n",
    "    name: insurance-charges-model-deployment\n",
    "  minReplicas: 1\n",
    "  maxReplicas: 10\n",
    "  metrics:\n",
    "  - type: Resource\n",
    "    resource:\n",
    "      name: cpu\n",
    "      target:\n",
    "        type: Utilization\n",
    "        averageUtilization: 50\n",
    "```\n",
    "\n",
    "This resource is defined in the /kubernetes/autoscaler.yaml file in the repository.\n",
    "\n",
    "The HorizontalPodAutoscaler resource simply states that each pod of the deployment be kept at 50% CPU utilization. Since the pods of our service request 100 millicores, the autoscaler controller will step in whenever the CPU usage goes above 50 millicores and add a replica to the deployment.\n",
    "\n",
    "We can deploy the HorizontalPodAutoscaler resource with this command:"
   ]
  },
  {
   "cell_type": "code",
   "execution_count": 37,
   "id": "2f8c6d7a",
   "metadata": {},
   "outputs": [
    {
     "name": "stdout",
     "output_type": "stream",
     "text": [
      "horizontalpodautoscaler.autoscaling/insurance-charges-model-autoscaler created\r\n"
     ]
    }
   ],
   "source": [
    "!kubectl apply -f ../kubernetes/autoscaler.yaml"
   ]
  },
  {
   "cell_type": "markdown",
   "id": "124e945a",
   "metadata": {},
   "source": [
    "We can view the number of replicas in the Deployment in the Kubernetes Dashboard:\n",
    "\n",
    "![Kubernetes Deployments](deployments_ltfmlm.png)\n",
    "![Kubernetes Deployments]({attach}deployments_ltfmlm.png){ width=100% }\n",
    "\n",
    "The deployment currently has 1 pod, with 1 requested pod.\n",
    "\n",
    "We can also see the HorizontalPodAutoscaler:\n",
    "\n",
    "![Kubernetes HPA](hpa_ltfmlm.png)\n",
    "![Kubernetes HPA]({attach}hpa_ltfmlm.png){ width=100% }\n",
    "\n",
    "The number of replicas is currently set to 1, the autoscaler will increase and decrease this number automatically.\n",
    "\n",
    "Let's try running the load test with more concurrent users and see if we can trigger an autoscaling event.\n",
    "\n",
    "```bash\n",
    "locust -f tests/load_test.py --host=http://192.168.59.100:31687 --headless --loglevel ERROR --csv=./load_test_report/load_test --html ./load_test_report/load_test_report.html\n",
    "```\n",
    "\n",
    "While it's running, let's watch the deployment for the number of replicas:"
   ]
  },
  {
   "cell_type": "code",
   "execution_count": 39,
   "id": "229a77f1",
   "metadata": {},
   "outputs": [
    {
     "name": "stdout",
     "output_type": "stream",
     "text": [
      "NAME                                 READY   UP-TO-DATE   AVAILABLE   AGE\n",
      "insurance-charges-model-deployment   1/1     1            1           14m\n",
      "insurance-charges-model-deployment   1/1     1            1           14m\n",
      "insurance-charges-model-deployment   1/1     1            1           15m\n",
      "insurance-charges-model-deployment   2/2     2            2           15m\n",
      "insurance-charges-model-deployment   2/2     2            2           15m\n",
      "insurance-charges-model-deployment   2/2     2            2           15m\n",
      "insurance-charges-model-deployment   2/2     2            2           16m\n",
      "insurance-charges-model-deployment   4/4     4            4           16m\n",
      "insurance-charges-model-deployment   4/4     4            4           16m\n",
      "insurance-charges-model-deployment   4/4     4            4           16m\n",
      "insurance-charges-model-deployment   4/4     4            4           17m\n",
      "insurance-charges-model-deployment   6/6     6            6           17m\n",
      "insurance-charges-model-deployment   6/6     6            6           17m\n",
      "insurance-charges-model-deployment   6/6     6            6           17m\n",
      "insurance-charges-model-deployment   6/6     6            6           18m\n",
      "insurance-charges-model-deployment   6/6     6            6           18m\n",
      "insurance-charges-model-deployment   6/6     6            6           18m\n",
      "insurance-charges-model-deployment   6/6     6            6           18m\n",
      "insurance-charges-model-deployment   6/6     6            6           19m\n",
      "insurance-charges-model-deployment   6/6     6            6           19m\n",
      "insurance-charges-model-deployment   6/6     6            6           19m\n",
      "insurance-charges-model-deployment   6/6     6            6           19m\n",
      "insurance-charges-model-deployment   6/6     6            6           20m\n",
      "insurance-charges-model-deployment   6/6     6            6           20m\n",
      "insurance-charges-model-deployment   6/6     6            6           20m\n",
      "insurance-charges-model-deployment   6/6     6            6           20m\n",
      "insurance-charges-model-deployment   6/6     6            6           21m\n",
      "insurance-charges-model-deployment   6/6     6            6           21m\n",
      "Process is interrupted.\n"
     ]
    }
   ],
   "source": [
    "%%bash\n",
    "\n",
    "kubectl get deployment insurance-charges-model-deployment\n",
    "\n",
    "while sleep 15; do \n",
    "    kubectl get deployment insurance-charges-model-deployment | grep insurance-charges-model-deployment\n",
    "done"
   ]
  },
  {
   "cell_type": "markdown",
   "id": "e6675f61",
   "metadata": {},
   "source": [
    "The increasing caused the number of replicas to go up to 6.\n",
    "\n",
    "Autoscaling can be triggered by using other metrics, such as memory usage. Autoscaling can ensure that a service can scale to meet the current needs of the clients of the system."
   ]
  },
  {
   "cell_type": "markdown",
   "id": "5bbb1290",
   "metadata": {},
   "source": [
    "## Deleting the Resources\n",
    "\n",
    "Now that we're done with the service we need to destroy the resources. \n",
    "\n",
    "To delete the service autoscaler, execute this command:"
   ]
  },
  {
   "cell_type": "code",
   "execution_count": 40,
   "id": "12792284",
   "metadata": {},
   "outputs": [
    {
     "name": "stdout",
     "output_type": "stream",
     "text": [
      "horizontalpodautoscaler.autoscaling \"insurance-charges-model-autoscaler\" deleted\r\n"
     ]
    }
   ],
   "source": [
    "!kubectl delete -f ../kubernetes/autoscaler.yaml"
   ]
  },
  {
   "cell_type": "markdown",
   "id": "eaa18431",
   "metadata": {},
   "source": [
    "To delete the model service, we'll execute this command:"
   ]
  },
  {
   "cell_type": "code",
   "execution_count": 41,
   "id": "f20f5411",
   "metadata": {},
   "outputs": [
    {
     "name": "stdout",
     "output_type": "stream",
     "text": [
      "configmap \"model-service-configuration\" deleted\r\n",
      "deployment.apps \"insurance-charges-model-deployment\" deleted\r\n",
      "service \"insurance-charges-model-service\" deleted\r\n"
     ]
    }
   ],
   "source": [
    "!kubectl delete -f ../kubernetes/model_service.yaml"
   ]
  },
  {
   "cell_type": "markdown",
   "id": "5678981a",
   "metadata": {},
   "source": [
    "To delete the namespace:"
   ]
  },
  {
   "cell_type": "code",
   "execution_count": 42,
   "id": "963e6578",
   "metadata": {},
   "outputs": [
    {
     "name": "stdout",
     "output_type": "stream",
     "text": [
      "namespace \"model-services\" deleted\r\n"
     ]
    }
   ],
   "source": [
    "!kubectl delete -f ../kubernetes/namespace.yaml"
   ]
  },
  {
   "cell_type": "markdown",
   "id": "996881b6",
   "metadata": {},
   "source": [
    "Lastly, to stop the kubernetes cluster, execute these commands:"
   ]
  },
  {
   "cell_type": "code",
   "execution_count": 43,
   "id": "bd07b741",
   "metadata": {},
   "outputs": [
    {
     "name": "stdout",
     "output_type": "stream",
     "text": [
      "✋  Stopping node \"minikube\"  ...\n",
      "🛑  1 node stopped.\n"
     ]
    }
   ],
   "source": [
    "!minikube stop"
   ]
  },
  {
   "cell_type": "markdown",
   "id": "3043086f",
   "metadata": {},
   "source": [
    "## Closing\n",
    "\n",
    "In this blog post we showed how to create a load testing script for a machine learning model that is deployed within a RESTful service. The load testing script is able to generate random inputs for the model. We also showed how to add a shape to the load test in order to simplify load testing and how to add SLOs to the load testing script so that we can quickly tell if the model and model service are able to meet the requirements of the deployment. Lastly, we deployed the model service to a Kubernetes and showed how to implement autoscaling so that the model service can meet the SLO adaptively."
   ]
  }
 ],
 "metadata": {
  "kernelspec": {
   "display_name": "Python 3 (ipykernel)",
   "language": "python",
   "name": "python3"
  },
  "language_info": {
   "codemirror_mode": {
    "name": "ipython",
    "version": 3
   },
   "file_extension": ".py",
   "mimetype": "text/x-python",
   "name": "python",
   "nbconvert_exporter": "python",
   "pygments_lexer": "ipython3",
   "version": "3.9.10"
  }
 },
 "nbformat": 4,
 "nbformat_minor": 5
}
